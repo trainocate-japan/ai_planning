{
 "cells": [
  {
   "cell_type": "markdown",
   "metadata": {},
   "source": [
    "# Mod4 コンピューティング\n"
   ]
  },
  {
   "cell_type": "markdown",
   "metadata": {},
   "source": [
    "## 補足"
   ]
  },
  {
   "cell_type": "markdown",
   "metadata": {},
   "source": [
    "- オンプレミス上で稼働している仮想マシンをそのままクラウドへ移行する（リロケート）  \n",
    "→ [VMware Cloud on AWS](https://aws.amazon.com/jp/vmware/) を使用することによって仮想マシンをそのままAWS へ移行することが可能q"
   ]
  },
  {
   "cell_type": "markdown",
   "metadata": {},
   "source": [
    "- LambdaとLambda＠Edgeの違いについて  \n",
    "定義した関数の実行場所がことなる。Lambda＠EdgeはCloud Front のエッジロケーションで実行されるため配信サービスになにか紐付けるときなどによい。\n"
   ]
  },
  {
   "cell_type": "markdown",
   "metadata": {},
   "source": []
  }
 ],
 "metadata": {
  "language_info": {
   "name": "python"
  }
 },
 "nbformat": 4,
 "nbformat_minor": 2
}
