{
 "cells": [
  {
   "cell_type": "markdown",
   "metadata": {},
   "source": [
    "# 【デモ】API での推論（AzureAIを使用した画像とテキスト分析）"
   ]
  },
  {
   "cell_type": "markdown",
   "metadata": {},
   "source": [
    "## まとめ\n",
    "クラウドの推論モデルを使用し簡単に実装することができました。  \n",
    "ビジネス目線でAPIモデルのメリットとデメリットを洗い出しましょう。  "
   ]
  }
 ],
 "metadata": {
  "language_info": {
   "name": "python"
  }
 },
 "nbformat": 4,
 "nbformat_minor": 2
}
