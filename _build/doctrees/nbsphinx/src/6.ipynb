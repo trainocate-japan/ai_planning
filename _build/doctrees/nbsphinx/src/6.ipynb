{
 "cells": [
  {
   "cell_type": "markdown",
   "metadata": {},
   "source": [
    "# Mod6 データベース"
   ]
  },
  {
   "cell_type": "markdown",
   "metadata": {},
   "source": [
    "[RDS のレプリケーションの話](https://qiita.com/bonjiko/items/e61a2f4e44da1535829c)"
   ]
  },
  {
   "cell_type": "markdown",
   "metadata": {},
   "source": [
    "## Redshift\n",
    "Redshift は RDB のデータベースです。ですがRDS とユースケースが異なります。\n",
    "Redshift は DWH として使用されます。DWHはビックデータの分析基盤を作成するときに、構造化され、きれいになったデータが蓄積される場所です。\n",
    "構造の明確な違いとして Redshift は列思考型のデータベースです。\n",
    "DWH は一般的なデータベースと違い一行ずつデータを取り出すということはしません。ほとんどが分析や可視化などで使用するため列思考型のほうが都合が良いです。\n"
   ]
  },
  {
   "cell_type": "markdown",
   "metadata": {},
   "source": []
  }
 ],
 "metadata": {
  "language_info": {
   "name": "python"
  }
 },
 "nbformat": 4,
 "nbformat_minor": 2
}
