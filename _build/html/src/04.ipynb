{
 "cells": [
  {
   "cell_type": "markdown",
   "metadata": {},
   "source": [
    "# 【事例共有】事例から学ぶ AI の導入 "
   ]
  },
  {
   "cell_type": "markdown",
   "metadata": {},
   "source": [
    "失敗事例から学ぶAIの導入（画像処理）\n"
   ]
  },
  {
   "cell_type": "markdown",
   "metadata": {},
   "source": [
    "成功事例から学ぶAI の導入（需要予測）"
   ]
  }
 ],
 "metadata": {
  "language_info": {
   "name": "python"
  }
 },
 "nbformat": 4,
 "nbformat_minor": 2
}
