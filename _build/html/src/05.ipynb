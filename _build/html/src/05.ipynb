{
 "cells": [
  {
   "cell_type": "markdown",
   "metadata": {},
   "source": [
    "# 【ワーク】AI プロジェクト立案"
   ]
  },
  {
   "cell_type": "markdown",
   "metadata": {},
   "source": [
    "![01](img/05/01.jpg)"
   ]
  },
  {
   "cell_type": "markdown",
   "metadata": {},
   "source": [
    "目的\n",
    "- スコープ1：自身が考える AI プロジェクトが推進可能かどうか判断できているかどうか？\n",
    "- スコープ2：具体的な手順や求める精度が割り出せているかどうか\n",
    "- スコープ3:なぜ実現不可なのかボトルネックを特定し、改善方法を提示出来るかどうか\n"
   ]
  },
  {
   "cell_type": "markdown",
   "metadata": {},
   "source": [
    "## 1.Step：現状を洗い出す\n",
    "- 現状\n",
    "    - 誰が・どこで・どのように行っている\n",
    "- 問題\n",
    "    - 課題\n",
    "    - 原因\n",
    "    - 損失（損失コスト・機会損失）\n",
    "- 目的\n",
    "    - 理想の\n",
    "- AI 以外の解決策\n",
    "- AI での解決策"
   ]
  },
  {
   "cell_type": "markdown",
   "metadata": {},
   "source": [
    "## 2.Step： 技術の選定と洗い出し。AI の要件と、ステークホルダーを洗い出す\n",
    "- AI の技術分野\n",
    "\n",
    "- スコープとなる AI の評価指標\n",
    "    \n",
    "- 使用するデータ・必要なデータと収集方法（具体的に）\n",
    "\n",
    "- データの流れ\n",
    "\n",
    "- ステークホルダー\n",
    "\n",
    "\n",
    "\n"
   ]
  },
  {
   "cell_type": "markdown",
   "metadata": {},
   "source": [
    "## 3.Step：実施の可否の精査\n",
    "- 想定されるリスクやコンプライアンス要件\n",
    "- 実施するうえでの懸念事項\n",
    "- 導入・運用にかかる費用（設備投資）\n",
    "- 導入の可否の決定"
   ]
  }
 ],
 "metadata": {
  "language_info": {
   "name": "python"
  }
 },
 "nbformat": 4,
 "nbformat_minor": 2
}
