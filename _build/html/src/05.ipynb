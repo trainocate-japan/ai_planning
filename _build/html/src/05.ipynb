{
 "cells": [
  {
   "cell_type": "markdown",
   "metadata": {},
   "source": [
    "# 【ワーク】AI プロジェクト立案"
   ]
  },
  {
   "cell_type": "markdown",
   "metadata": {},
   "source": [
    "![01](img/05/01.png)"
   ]
  },
  {
   "cell_type": "markdown",
   "metadata": {},
   "source": [
    "目的\n",
    "- スコープ1：自身が考える AI プロジェクトが推進可能かどうか判断できているかどうか？\n",
    "- スコープ2：具体的な手順や求める精度が割り出せているかどうか\n",
    "- スコープ3:なぜ実現不可なのかボトルネックを特定し、改善方法を提示出来るかどうか\n"
   ]
  },
  {
   "cell_type": "markdown",
   "metadata": {},
   "source": [
    "## 1.Step"
   ]
  },
  {
   "cell_type": "markdown",
   "metadata": {},
   "source": [
    "## 2.Step"
   ]
  },
  {
   "cell_type": "markdown",
   "metadata": {},
   "source": [
    "## 3.Step\n",
    "- プロジェクトの推進が可能化否か\n",
    "- 可能：懸念事項は何か、より成功率を高めるには？\n",
    "- 不可能:ボトルネックはなにか（不可能な要因は）、代替案はあるか？、"
   ]
  }
 ],
 "metadata": {
  "language_info": {
   "name": "python"
  }
 },
 "nbformat": 4,
 "nbformat_minor": 2
}
