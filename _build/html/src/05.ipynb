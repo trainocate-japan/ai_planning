{
 "cells": [
  {
   "cell_type": "markdown",
   "metadata": {},
   "source": [
    "# 【ワーク】AI プロジェクト立案"
   ]
  },
  {
   "cell_type": "markdown",
   "metadata": {},
   "source": [
    "### スコープ1：自身が考える AI プロジェクトが推進可能かどうか判断できているかどうか？\n",
    "### スコープ2：具体的な手順や求める精度が割り出せているかどうか\n",
    "### スコープ3:なぜ実現不可なのかボトルネックを特定し、改善方法を提示出来るかどうか\n"
   ]
  }
 ],
 "metadata": {
  "language_info": {
   "name": "python"
  }
 },
 "nbformat": 4,
 "nbformat_minor": 2
}
