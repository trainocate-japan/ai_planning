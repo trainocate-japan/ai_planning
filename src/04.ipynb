{
 "cells": [
  {
   "cell_type": "markdown",
   "metadata": {},
   "source": [
    "# 4.【事例共有】事例から学ぶ AI の導入 "
   ]
  },
  {
   "cell_type": "markdown",
   "metadata": {},
   "source": [
    "失敗事例から学ぶAIの導入（画像処理）\n",
    "コスト削減のためにAIを導入する企業も多いですが、AI開発費用とランニングコストがコスト削減効果を上回る場合があります。また、AI 導入にかかる費用はAIの開発と運用費用だけではありません。  \n",
    "例えば画像処理を導入する場合、まずは画像を収集するためのカメラが必要になります。  \n",
    "製造業で扱われるような画像を使用した異常品検知をするのであれば、製品を360°画像にするためのカメラ設備が必要です。  \n",
    "また、製品の型番などが変わってしまえば新しくAI を開発する必要があり、予測以上にお金がかかります。  \n",
    "\n"
   ]
  },
  {
   "cell_type": "markdown",
   "metadata": {},
   "source": [
    "成功事例から学ぶAI の導入（需要予測）  \n",
    "https://ledge.ai/articles/jre-water-hivery-enhance-interview"
   ]
  }
 ],
 "metadata": {
  "language_info": {
   "name": "python"
  }
 },
 "nbformat": 4,
 "nbformat_minor": 2
}
