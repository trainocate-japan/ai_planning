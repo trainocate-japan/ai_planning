{
 "cells": [
  {
   "cell_type": "markdown",
   "metadata": {},
   "source": [
    "# 1-1【演習】画像分類モデルの作成\n",
    "本章では Custom Vision を用いて画像分類モデルの作成を行います。"
   ]
  },
  {
   "cell_type": "markdown",
   "metadata": {},
   "source": [
    "## Custom Visionについて\n",
    "Microsoft Custom Visionは、独自の画像分類モデルを簡単に構築し、デプロイするためのサービスです。\n",
    "ビジョンAIを使用して、画像を異なるカテゴリに分類するカスタムモデルを作成します。\n",
    "### Custom Visionの利点\n",
    "ユーザーフレンドリー: 直感的なユーザーインターフェースを備えており、初心者でも使いやすいです。\n",
    "自動学習: ラベリングされた画像データを使用して、自動的に学習とモデルの改善を行います。\n",
    "クラウドベース: クラウド上でモデルを作成し、簡単にデプロイすることができます。"
   ]
  },
  {
   "cell_type": "markdown",
   "metadata": {},
   "source": [
    "## 手順\n",
    "\n",
    "### Azure へログイン\n",
    "Web ブラウザを開き、[Azure ポータル](https://azure.microsoft.com/ja-jp/get-started/azure-portal)にアクセスします。サインインを選択し、\n",
    "ユーザー名とパスワードを入力して、アカウントにサインインします。\n",
    "\n",
    "サインインができると下記のようなAzure のホーム画面に遷移します。\n",
    "\n",
    "![01](img/01/01.png)\n",
    "\n",
    "### Azure AI マルチアカウントのリソースを作成\n",
    "\n",
    "Azure のホーム画面の左上にある「リソースの作成」ボタンをクリックします。\n",
    "\n",
    "検索バーに「Azure AI」と入力し、候補から「Azure AI Service」を選択します。\n",
    "\n",
    "![02](img/01/02.png)\n",
    "\n",
    "\n",
    "「Azure AI Vision」の作成画面で、必要な情報を入力します\n",
    "\n",
    "![03](img/01/03.png)\n",
    "\n",
    "- サブスクリプション: Cloud01~20 のどれかが選択出来るようになっています。\n",
    "- リソース グループ: sawakura-group\n",
    "- リージョン: EastUS\n",
    "- リソース名: 名字+本日の日付+ai (重複などがあった場合はランダムな名前で構いません)\n",
    "- 価格レベル: Standard S0\n",
    "- チェックボックスに☑マークを入れる\n",
    "\n",
    "設定が完了したら、「確認と作成」をクリックし、リソースを作成します。\n",
    "\n",
    "下記のようにリソースの作成が完了しました。と出力差れればリソースの作成は完了です。\n",
    "\n",
    "![04](img/01/04.png)\n",
    "\n"
   ]
  },
  {
   "cell_type": "markdown",
   "metadata": {},
   "source": [
    "### CustomVision で画像分類modelを作成する\n",
    "\n",
    "1. [Custom Visionポータル](https://customvision.ai/)にアクセスします。  \n",
    " [サインイン] を選択します。 Azure portal へのサインインに使用したのと同じアカウントでサインインします。\n",
    " ![customvision](https://learn.microsoft.com/ja-JP/azure/ai-services/custom-vision-service/media/browser-home.png)\n",
    " \n",
    "2. 新しいプロジェクトを作成します。プロジェクト名や説明を追加します。\n",
    "\n",
    "![05](img/01/05.png)\n",
    "\n",
    "- Name: demo+名前+pro\n",
    "- Resource: 先ほど作成した Azure AI のリソースの名前\n",
    "- ProjectTypes: Classification  \n",
    "その他、デフォルトの設定\n",
    "\n",
    "最後に CreateProject を選択し、プロジェクトの作成を行います。  \n",
    "\n",
    "\n",
    "## CustomVision を用いた画像処理\n",
    "\n",
    "3. 次に画像分類の モデル を作成するための\n",
    "「画像の追加(add images)」をクリックし、サンプルデータをアップロードします。\n",
    "\n",
    "\n",
    "5. アップロードした画像をラベル別にタグ付けします。\n",
    "\n",
    "6. 「トレーニング」をクリックしてモデルをトレーニングします。トレーニングの進行状況を確認します。\n",
    "\n",
    "7. トレーニングが完了したら、テスト画像を使用してモデルのパフォーマンスを評価します。\n",
    "\n",
    "8. モデルの精度が満足いく場合は、「デプロイ」をクリックしてモデルをデプロイします。\n",
    "\n",
    "9. デプロイされたモデルにアクセスするためのエンドポイントURLやAPIキーが提供されます。\n",
    "こちらを使用することによって、アプリケーションから作成した AI を使用することが可能になります。\n",
    "\n",
    "\n"
   ]
  },
  {
   "cell_type": "markdown",
   "metadata": {},
   "source": [
    "## まとめ\n",
    "Microsoft Custom Visionを使用すると、独自の画像分類モデルを簡単に作成し、デプロイすることができます。\n",
    "手順は直感的であり、初心者でも迅速にモデルを構築することができます。\n"
   ]
  }
 ],
 "metadata": {
  "language_info": {
   "name": "python"
  }
 },
 "nbformat": 4,
 "nbformat_minor": 2
}
